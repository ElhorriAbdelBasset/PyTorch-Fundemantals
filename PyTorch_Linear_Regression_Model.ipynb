{
  "nbformat": 4,
  "nbformat_minor": 0,
  "metadata": {
    "colab": {
      "provenance": [],
      "authorship_tag": "ABX9TyMPfEm8lyjwlFiUGk0EESCc",
      "include_colab_link": true
    },
    "kernelspec": {
      "name": "python3",
      "display_name": "Python 3"
    },
    "language_info": {
      "name": "python"
    },
    "accelerator": "GPU",
    "gpuClass": "standard"
  },
  "cells": [
    {
      "cell_type": "markdown",
      "metadata": {
        "id": "view-in-github",
        "colab_type": "text"
      },
      "source": [
        "<a href=\"https://colab.research.google.com/github/ElhorriAbdelBasset/PyTorch-Fundemantals/blob/main/PyTorch_Linear_Regression_Model.ipynb\" target=\"_parent\"><img src=\"https://colab.research.google.com/assets/colab-badge.svg\" alt=\"Open In Colab\"/></a>"
      ]
    },
    {
      "cell_type": "code",
      "execution_count": null,
      "metadata": {
        "id": "Xkbu5GsjewIk"
      },
      "outputs": [],
      "source": [
        "import torch\n",
        "from torch import nn\n",
        "import matplotlib.pyplot as plt"
      ]
    },
    {
      "cell_type": "code",
      "source": [
        "torch.__version__"
      ],
      "metadata": {
        "id": "hWG2kFhtfAo2",
        "colab": {
          "base_uri": "https://localhost:8080/",
          "height": 35
        },
        "outputId": "3b9352a0-a691-4301-eeb3-68dee59c13a1"
      },
      "execution_count": null,
      "outputs": [
        {
          "output_type": "execute_result",
          "data": {
            "text/plain": [
              "'1.13.0+cu116'"
            ],
            "application/vnd.google.colaboratory.intrinsic+json": {
              "type": "string"
            }
          },
          "metadata": {},
          "execution_count": 2
        }
      ]
    },
    {
      "cell_type": "markdown",
      "source": [
        "## Data Generation"
      ],
      "metadata": {
        "id": "9CpOh-sTQLVD"
      }
    },
    {
      "cell_type": "code",
      "source": [
        "weight = 0.8 \n",
        "bias = 0.9\n",
        "\n",
        "start = 0\n",
        "end = 10\n",
        "step = 0.05\n",
        "X = torch.arange(start, end, step).unsqueeze(dim=1)\n",
        "Y = weight*X+bias\n",
        "noise = torch.randn((len(Y),1)) * 1.2\n",
        "Y = Y + noise"
      ],
      "metadata": {
        "id": "zv6vRTODMQMP"
      },
      "execution_count": null,
      "outputs": []
    },
    {
      "cell_type": "code",
      "source": [
        "train_test_split = int(len(X)*0.8)\n",
        "X_train, Y_train = X[:train_test_split], Y[:train_test_split]\n",
        "X_test, Y_test = X[train_test_split:], Y[train_test_split:]\n",
        "len(X_train), len(X_test), len(Y_train), len(Y_test)"
      ],
      "metadata": {
        "colab": {
          "base_uri": "https://localhost:8080/"
        },
        "id": "6pcL0iw_M4Fd",
        "outputId": "4566bec1-ca8f-479b-dfd4-387193976e27"
      },
      "execution_count": null,
      "outputs": [
        {
          "output_type": "execute_result",
          "data": {
            "text/plain": [
              "(160, 40, 160, 40)"
            ]
          },
          "metadata": {},
          "execution_count": 4
        }
      ]
    },
    {
      "cell_type": "code",
      "source": [
        "X.shape, Y.shape"
      ],
      "metadata": {
        "colab": {
          "base_uri": "https://localhost:8080/"
        },
        "id": "pMQjDfuSPX8r",
        "outputId": "61a8e633-4e17-41d6-a96a-f1e458aa89c2"
      },
      "execution_count": null,
      "outputs": [
        {
          "output_type": "execute_result",
          "data": {
            "text/plain": [
              "(torch.Size([200, 1]), torch.Size([200, 1]))"
            ]
          },
          "metadata": {},
          "execution_count": 5
        }
      ]
    },
    {
      "cell_type": "code",
      "source": [
        "def plot_things(X_train, Y_train, X_test, Y_test, test_preds=None, train_preds=None):\n",
        "  plt.figure(figsize=(10,7))\n",
        "  plt.scatter(X_train, Y_train, c='b', label=\"Trainnig Data\")\n",
        "  plt.scatter(X_test, Y_test, c='r', label=\"Testing Data\")\n",
        "  if test_preds != None:\n",
        "    plt.scatter(X_test, test_preds.detach().numpy(), c=\"g\", label=\"Test Predicitons\")\n",
        "  if train_preds != None:\n",
        "    plt.scatter(X_train, train_preds.detach().numpy(), c=\"g\", label=\"Train Predicitons\")"
      ],
      "metadata": {
        "id": "BFgtaD9GNWGf"
      },
      "execution_count": null,
      "outputs": []
    },
    {
      "cell_type": "code",
      "source": [
        "plot_things(X_train, Y_train, X_test, Y_test)"
      ],
      "metadata": {
        "colab": {
          "base_uri": "https://localhost:8080/",
          "height": 428
        },
        "id": "tzlqqbflOK2L",
        "outputId": "638018e9-83d6-4677-d903-7a7204f6a2c4"
      },
      "execution_count": null,
      "outputs": [
        {
          "output_type": "display_data",
          "data": {
            "text/plain": [
              "<Figure size 720x504 with 1 Axes>"
            ],
            "image/png": "[encoded data removed]"
          },
          "metadata": {
            "needs_background": "light"
          }
        }
      ]
    },
    {
      "cell_type": "markdown",
      "source": [
        "## Model Building"
      ],
      "metadata": {
        "id": "z2z2CS69QR3f"
      }
    },
    {
      "cell_type": "code",
      "source": [
        "class LinearModel(nn.Module):\n",
        "  def __init__(self):\n",
        "    super().__init__()\n",
        "    self.weight = nn.Parameter(torch.randn(1), requires_grad=True)\n",
        "    self.bias = nn.Parameter(torch.randn(1), requires_grad=True)\n",
        "\n",
        "  def forward(self, X: torch.Tensor) -> torch.Tensor:\n",
        "    return self.weight * X + self.bias"
      ],
      "metadata": {
        "id": "K1Gt5T95OONu"
      },
      "execution_count": null,
      "outputs": []
    },
    {
      "cell_type": "code",
      "source": [
        "model = LinearModel()\n",
        "preds = model.forward(X_test)"
      ],
      "metadata": {
        "id": "uqSvvRPGQ-3O"
      },
      "execution_count": null,
      "outputs": []
    },
    {
      "cell_type": "code",
      "source": [
        "plot_things(X_train, Y_train, X_test, Y_test, preds)"
      ],
      "metadata": {
        "colab": {
          "base_uri": "https://localhost:8080/",
          "height": 428
        },
        "id": "ybEZ1Cp3RCJ2",
        "outputId": "9911bbfa-e2fb-4d80-c6a9-0f422db62e3c"
      },
      "execution_count": null,
      "outputs": [
        {
          "output_type": "display_data",
          "data": {
            "text/plain": [
              "<Figure size 720x504 with 1 Axes>"
            ],
            "image/png": "[encoded data removed]"
          },
          "metadata": {
            "needs_background": "light"
          }
        }
      ]
    },
    {
      "cell_type": "code",
      "source": [
        "epochs = 100\n",
        "\n",
        "epoch_count = []\n",
        "train_loss = []\n",
        "test_losses = []\n",
        "optimizer =  torch.optim.SGD(model.parameters(), lr=0.1)\n",
        "losss = nn.L1Loss()\n",
        "\n",
        "for epoch in range(epochs):\n",
        "  model.train()\n",
        "  preds = model(X_train)\n",
        "  loss = losss(preds, Y_train)\n",
        "  optimizer.zero_grad()\n",
        "  loss.backward()\n",
        "  optimizer.step()\n",
        "  model.eval()\n",
        "\n",
        "  with torch.inference_mode():\n",
        "    test_preds = model(X_test)\n",
        "    test_loss = losss(test_preds, Y_test)\n",
        "\n",
        "  if epoch % 10 == 0:\n",
        "    epoch_count.append(epoch)\n",
        "    train_loss.append(loss.detach().numpy())\n",
        "    test_losses.append(test_loss.detach().numpy())\n",
        "    print(f\"Epoch {epoch}: Train Loss {loss}, Test Loss {test_loss}\")"
      ],
      "metadata": {
        "colab": {
          "base_uri": "https://localhost:8080/"
        },
        "id": "VhhLAcmiRKl0",
        "outputId": "feac3497-51c2-4b69-ff25-e47ded03b527"
      },
      "execution_count": null,
      "outputs": [
        {
          "output_type": "stream",
          "name": "stdout",
          "text": [
            "Epoch 0: Train Loss 3.9670448303222656, Test Loss 3.9222781658172607\n",
            "Epoch 10: Train Loss 0.9398813247680664, Test Loss 1.1097419261932373\n",
            "Epoch 20: Train Loss 0.9284898638725281, Test Loss 1.0738551616668701\n",
            "Epoch 30: Train Loss 0.9194186329841614, Test Loss 1.070077657699585\n",
            "Epoch 40: Train Loss 0.9131959080696106, Test Loss 1.0418570041656494\n",
            "Epoch 50: Train Loss 0.9075860977172852, Test Loss 1.028352975845337\n",
            "Epoch 60: Train Loss 0.9041007161140442, Test Loss 1.0202291011810303\n",
            "Epoch 70: Train Loss 0.9050130844116211, Test Loss 1.007662057876587\n",
            "Epoch 80: Train Loss 0.9003686904907227, Test Loss 1.0515471696853638\n",
            "Epoch 90: Train Loss 0.9008020162582397, Test Loss 0.9944165945053101\n"
          ]
        }
      ]
    },
    {
      "cell_type": "code",
      "source": [
        "plt.plot(epoch_count, train_loss, label=\"Train Loss\")\n",
        "plt.plot(epoch_count, test_losses, label=\"Test Loss\")\n",
        "plt.title(\"Loss Decrease With Respect To Epochs\")"
      ],
      "metadata": {
        "colab": {
          "base_uri": "https://localhost:8080/",
          "height": 298
        },
        "id": "6C_e7v6IWo0x",
        "outputId": "e5b20292-9669-4905-c5fd-e5dc553d2ef4"
      },
      "execution_count": null,
      "outputs": [
        {
          "output_type": "execute_result",
          "data": {
            "text/plain": [
              "Text(0.5, 1.0, 'Loss Decrease With Respect To Epochs')"
            ]
          },
          "metadata": {},
          "execution_count": 25
        },
        {
          "output_type": "display_data",
          "data": {
            "text/plain": [
              "<Figure size 432x288 with 1 Axes>"
            ],
            "image/png": "[encoded data removed]"
          },
          "metadata": {
            "needs_background": "light"
          }
        }
      ]
    },
    {
      "cell_type": "code",
      "source": [
        "train_preds = model(X_train)\n",
        "test_preds = model(X_test)"
      ],
      "metadata": {
        "id": "qrIgQ-kxbWBw"
      },
      "execution_count": null,
      "outputs": []
    },
    {
      "cell_type": "code",
      "source": [
        "plot_things(X_train, Y_train, X_test, Y_test, test_preds=test_preds, train_preds=train_preds)"
      ],
      "metadata": {
        "colab": {
          "base_uri": "https://localhost:8080/",
          "height": 428
        },
        "id": "qG-K7k-SZC48",
        "outputId": "f3b3c2b4-a6bd-4737-fb90-09618190e01e"
      },
      "execution_count": null,
      "outputs": [
        {
          "output_type": "display_data",
          "data": {
            "text/plain": [
              "<Figure size 720x504 with 1 Axes>"
            ],
            "image/png": "[encoded data removed]"
          },
          "metadata": {
            "needs_background": "light"
          }
        }
      ]
    },
    {
      "cell_type": "markdown",
      "source": [
        "If you want to save your model, then run this.\n",
        "\n",
        "```\n",
        "torch.save(obj=model.state_dict(), f=\"Your Path\")\n",
        "```\n",
        "\n"
      ],
      "metadata": {
        "id": "t2sAAHWTb5MP"
      }
    },
    {
      "cell_type": "code",
      "source": [],
      "metadata": {
        "id": "11H7nJ9cb-6U"
      },
      "execution_count": null,
      "outputs": []
    }
  ]
}