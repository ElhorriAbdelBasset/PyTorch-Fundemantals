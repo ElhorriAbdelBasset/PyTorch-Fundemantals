{
  "nbformat": 4,
  "nbformat_minor": 0,
  "metadata": {
    "colab": {
      "provenance": [],
      "authorship_tag": "ABX9TyMoQadG0tZZCATzLjDMvXP2",
      "include_colab_link": true
    },
    "kernelspec": {
      "name": "python3",
      "display_name": "Python 3"
    },
    "language_info": {
      "name": "python"
    },
    "accelerator": "GPU",
    "gpuClass": "standard"
  },
  "cells": [
    {
      "cell_type": "markdown",
      "metadata": {
        "id": "view-in-github",
        "colab_type": "text"
      },
      "source": [
        "<a href=\"https://colab.research.google.com/github/ElhorriAbdelBasset/PyTorch-Fundemantals/blob/main/PyTorch_Computer_Vision.ipynb\" target=\"_parent\"><img src=\"https://colab.research.google.com/assets/colab-badge.svg\" alt=\"Open In Colab\"/></a>"
      ]
    },
    {
      "cell_type": "code",
      "execution_count": 16,
      "metadata": {
        "colab": {
          "base_uri": "https://localhost:8080/"
        },
        "id": "5twbwZKvXtyY",
        "outputId": "3d2c5ad1-ec24-4847-d0e7-f43f780e2229"
      },
      "outputs": [
        {
          "output_type": "stream",
          "name": "stdout",
          "text": [
            "PyTorch version: 1.13.0+cu116\n",
            "torchvision version: 0.14.0+cu116\n"
          ]
        }
      ],
      "source": [
        "import torch\n",
        "from torch import nn\n",
        "import torchvision\n",
        "from torchvision import datasets\n",
        "from torchvision.transforms import ToTensor\n",
        "import matplotlib.pyplot as plt\n",
        "from torch.utils.data import DataLoader\n",
        "\n",
        "print(f\"PyTorch version: {torch.__version__}\\ntorchvision version: {torchvision.__version__}\")"
      ]
    },
    {
      "cell_type": "code",
      "source": [
        "device = 'cuda' if torch.cuda.is_available() else \"cpu\"\n",
        "device"
      ],
      "metadata": {
        "colab": {
          "base_uri": "https://localhost:8080/",
          "height": 35
        },
        "id": "v4_zMSh0jAKb",
        "outputId": "88ef9c21-7822-4747-8b3d-2072e0d19a4d"
      },
      "execution_count": 22,
      "outputs": [
        {
          "output_type": "execute_result",
          "data": {
            "text/plain": [
              "'cuda'"
            ],
            "application/vnd.google.colaboratory.intrinsic+json": {
              "type": "string"
            }
          },
          "metadata": {},
          "execution_count": 22
        }
      ]
    },
    {
      "cell_type": "code",
      "source": [
        "train_data = datasets.FashionMNIST(\n",
        "    root=\"data\",\n",
        "    train=True,\n",
        "    download=True,\n",
        "    transform=ToTensor(),\n",
        "    target_transform=None\n",
        ")\n",
        "test_data = datasets.FashionMNIST(\n",
        "    root=\"data\",\n",
        "    train=False,\n",
        "    download=True,\n",
        "    transform=ToTensor(),\n",
        ")"
      ],
      "metadata": {
        "id": "Q7BwGkDAdGoX"
      },
      "execution_count": 103,
      "outputs": []
    },
    {
      "cell_type": "code",
      "source": [
        "train_data[0][0].shape, test_data[0][0].shape"
      ],
      "metadata": {
        "colab": {
          "base_uri": "https://localhost:8080/"
        },
        "id": "abVd3vnWgPqt",
        "outputId": "4a4f8090-766b-41c0-e411-2cdd56ad3f6e"
      },
      "execution_count": 11,
      "outputs": [
        {
          "output_type": "execute_result",
          "data": {
            "text/plain": [
              "(torch.Size([1, 28, 28]), torch.Size([1, 28, 28]))"
            ]
          },
          "metadata": {},
          "execution_count": 11
        }
      ]
    },
    {
      "cell_type": "code",
      "source": [
        "len(train_data.data), len(train_data.targets)"
      ],
      "metadata": {
        "colab": {
          "base_uri": "https://localhost:8080/"
        },
        "id": "9-XtbagdgXA3",
        "outputId": "2ecbcddf-0614-4496-9935-c629efe0d374"
      },
      "execution_count": 13,
      "outputs": [
        {
          "output_type": "execute_result",
          "data": {
            "text/plain": [
              "(10000, 10000)"
            ]
          },
          "metadata": {},
          "execution_count": 13
        }
      ]
    },
    {
      "cell_type": "code",
      "source": [
        "len(test_data.data), len(test_data.targets)"
      ],
      "metadata": {
        "colab": {
          "base_uri": "https://localhost:8080/"
        },
        "id": "LnpmVJuOgk_K",
        "outputId": "bd495d55-c216-431a-9b80-4c2d59020ba6"
      },
      "execution_count": 14,
      "outputs": [
        {
          "output_type": "execute_result",
          "data": {
            "text/plain": [
              "(10000, 10000)"
            ]
          },
          "metadata": {},
          "execution_count": 14
        }
      ]
    },
    {
      "cell_type": "code",
      "source": [
        "classes = train_data.classes"
      ],
      "metadata": {
        "id": "QxTxeq1NhHtI"
      },
      "execution_count": 19,
      "outputs": []
    },
    {
      "cell_type": "code",
      "source": [
        "BATCH = 32\n",
        "\n",
        "train_dataloader = DataLoader(\n",
        "    train_data,\n",
        "    batch_size = BATCH,\n",
        "    shuffle=True\n",
        ")\n",
        "\n",
        "test_dataloader = DataLoader(\n",
        "    test_data,\n",
        "    batch_size = BATCH,\n",
        "    shuffle=False\n",
        ")"
      ],
      "metadata": {
        "id": "SiC-zwsshLkc"
      },
      "execution_count": 17,
      "outputs": []
    },
    {
      "cell_type": "code",
      "source": [
        "class FashionMNISTModel(nn.Module):\n",
        "  def __init__(self, ins, outs, hidden) -> None:\n",
        "    super().__init__()\n",
        "    self.layer_stack = nn.Sequential(\n",
        "        nn.Flatten(),\n",
        "        nn.Linear(in_features=ins, out_features=hidden),\n",
        "        nn.ReLU(),\n",
        "        nn.Linear(in_features=hidden, out_features=hidden),\n",
        "        nn.ReLU(),\n",
        "        nn.Linear(in_features=hidden, out_features=outs)\n",
        "    )\n",
        "\n",
        "  def forward(self, x: torch.Tensor):\n",
        "        return self.layer_stack(x)"
      ],
      "metadata": {
        "id": "JMc2deUth3O6"
      },
      "execution_count": 31,
      "outputs": []
    },
    {
      "cell_type": "code",
      "source": [
        "model = FashionMNISTModel(784,len(classes), 10).to(device)\n",
        "next(model.parameters()).device"
      ],
      "metadata": {
        "colab": {
          "base_uri": "https://localhost:8080/"
        },
        "id": "T1YYjytMiv5H",
        "outputId": "a53cdcea-7d79-4ba0-81ef-cc7d68d7b964"
      },
      "execution_count": 39,
      "outputs": [
        {
          "output_type": "execute_result",
          "data": {
            "text/plain": [
              "device(type='cuda', index=0)"
            ]
          },
          "metadata": {},
          "execution_count": 39
        }
      ]
    },
    {
      "cell_type": "code",
      "source": [
        "loss_fn = nn.CrossEntropyLoss()\n",
        "optimizer = torch.optim.SGD(params=model.parameters(), lr=0.1)\n",
        "def accuracy_fn(Y_gt=None, Y_pr=None):\n",
        "  corr = torch.eq(Y_gt, Y_pr).sum().item()\n",
        "  return (corr / len(Y_gt)) * 100"
      ],
      "metadata": {
        "id": "Q-xyMnrai7WP"
      },
      "execution_count": 60,
      "outputs": []
    },
    {
      "cell_type": "code",
      "source": [
        "from timeit import default_timer as timer"
      ],
      "metadata": {
        "id": "uxBkBIVknwgU"
      },
      "execution_count": 34,
      "outputs": []
    },
    {
      "cell_type": "code",
      "source": [
        "def training(model: torch.nn.Module,\n",
        "             dataloader: torch.utils.data.DataLoader,\n",
        "             loss_fn: torch.nn.Module,\n",
        "             optimizer: torch.optim.Optimizer,\n",
        "             device: torch.device = device):\n",
        "  train_loss, train_acc = 0, 0\n",
        "  for batch, (X, Y) in enumerate(dataloader):\n",
        "    X,Y = X.to(device), Y.to(device)\n",
        "    predictions = model(X)\n",
        "    loss = loss_fn(predictions, Y)\n",
        "    acc = accuracy_fn(Y, predictions.argmax(dim=1))\n",
        "    train_loss += loss\n",
        "    train_acc += acc\n",
        "    optimizer.zero_grad()\n",
        "    loss.backward()\n",
        "    optimizer.step()\n",
        "\n",
        "  train_loss /= len(dataloader)\n",
        "  train_acc /= len(dataloader)\n",
        "  print(f\"Train Loss {train_loss} | Train Accuracy {train_acc}\")\n",
        "\n",
        "def testing(model: torch.nn.Module,\n",
        "             dataloader: torch.utils.data.DataLoader,\n",
        "             loss_fn: torch.nn.Module,\n",
        "             optimizer: torch.optim.Optimizer,\n",
        "             device: torch.device = device):\n",
        "  test_loss, test_acc = 0, 0\n",
        "  model.eval()\n",
        "  for batch, (X, Y) in enumerate(dataloader):\n",
        "    X,Y = X.to(device), Y.to(device)\n",
        "    predictions = model(X)\n",
        "    loss = loss_fn(predictions, Y)\n",
        "    acc = accuracy_fn(Y, predictions.argmax(dim=1))\n",
        "    test_loss += loss\n",
        "    test_acc += acc\n",
        "\n",
        "  test_loss /= len(dataloader)\n",
        "  test_acc /= len(dataloader)\n",
        "  print(f\"Test Loss {test_loss} | Test Accuracy {test_acc}\")\n"
      ],
      "metadata": {
        "id": "ljt879m9ksNc"
      },
      "execution_count": 41,
      "outputs": []
    },
    {
      "cell_type": "code",
      "source": [
        "def eval_model(model: torch.nn.Module,\n",
        "             dataloader: torch.utils.data.DataLoader,\n",
        "             loss_fn: torch.nn.Module,\n",
        "             optimizer: torch.optim.Optimizer,\n",
        "             device: torch.device = device):\n",
        "  test_loss, test_acc = 0, 0\n",
        "  model.eval()\n",
        "  for X, Y in dataloader:\n",
        "    X,Y = X.to(device), Y.to(device)\n",
        "    predictions = model(X)\n",
        "    loss = loss_fn(predictions, Y)\n",
        "    acc = accuracy_fn(Y, predictions.argmax(dim=1))\n",
        "    test_loss += loss\n",
        "    test_acc += acc\n",
        "\n",
        "  test_loss /= len(dataloader)\n",
        "  test_acc /= len(dataloader)\n",
        "  return {\"Model\": model.__class__.__name__,\n",
        "          \"Test Loss\": test_loss.item(),\n",
        "          \"Test Accuracy\": test_acc}, predictions.argmax(dim=1)"
      ],
      "metadata": {
        "id": "CQqeWWLPqNZ1"
      },
      "execution_count": 78,
      "outputs": []
    },
    {
      "cell_type": "code",
      "source": [
        "train_start = timer()\n",
        "\n",
        "epochs = 4\n",
        "\n",
        "for epoch in range(epochs):\n",
        "  print(f\"Epoch {epoch}   ---------------\\n\")\n",
        "  training(model, train_dataloader, loss_fn, optimizer)\n",
        "  testing(model, test_dataloader, loss_fn, optimizer)\n",
        "\n",
        "train_end = timer()\n",
        "print(train_end-train_start)"
      ],
      "metadata": {
        "colab": {
          "base_uri": "https://localhost:8080/"
        },
        "id": "DKMV4xS9nmrq",
        "outputId": "83dcce64-1023-4738-ef82-90440f59701c"
      },
      "execution_count": 46,
      "outputs": [
        {
          "output_type": "stream",
          "name": "stdout",
          "text": [
            "Epoch 0   ---------------\n",
            "\n",
            "Train Loss 0.5708737969398499 | Train Accuracy 79.15335463258786\n",
            "Test Loss 0.48787787556648254 | Test Accuracy 82.59784345047923\n",
            "Epoch 1   ---------------\n",
            "\n",
            "Train Loss 0.5371489524841309 | Train Accuracy 80.64097444089457\n",
            "Test Loss 0.5035771727561951 | Test Accuracy 81.95886581469648\n",
            "Epoch 2   ---------------\n",
            "\n",
            "Train Loss 0.5164942741394043 | Train Accuracy 81.35982428115015\n",
            "Test Loss 0.6154431104660034 | Test Accuracy 77.47603833865814\n",
            "Epoch 3   ---------------\n",
            "\n",
            "Train Loss 0.49815085530281067 | Train Accuracy 81.9888178913738\n",
            "Test Loss 0.5218081474304199 | Test Accuracy 80.79073482428115\n",
            "8.924942212000133\n"
          ]
        }
      ]
    },
    {
      "cell_type": "code",
      "source": [
        "classModel = eval_model(model, train_dataloader, loss_fn, optimizer)"
      ],
      "metadata": {
        "id": "3LKZhiYxoTfU"
      },
      "execution_count": 48,
      "outputs": []
    },
    {
      "cell_type": "code",
      "source": [
        "class ConvModel(nn.Module):\n",
        "  def __init__(self, ins, hidden, outs) -> None:\n",
        "    super().__init__()\n",
        "    self.block_1 = nn.Sequential(\n",
        "        nn.Conv2d(in_channels=ins,\n",
        "                  out_channels=hidden,\n",
        "                  kernel_size=3,\n",
        "                  padding=1),\n",
        "        nn.ReLU(),\n",
        "        nn.Conv2d(in_channels=hidden,\n",
        "                  out_channels=hidden,\n",
        "                  kernel_size=3,\n",
        "                  padding=1),\n",
        "        nn.ReLU(),\n",
        "        nn.MaxPool2d(kernel_size=2,\n",
        "                        stride=2)\n",
        "    )\n",
        "    self.block_2 = nn.Sequential(\n",
        "        nn.Conv2d(in_channels=hidden,\n",
        "                  out_channels=hidden,\n",
        "                  kernel_size=3,\n",
        "                  padding=1),\n",
        "        nn.ReLU(),\n",
        "        nn.Conv2d(in_channels=hidden,\n",
        "                  out_channels=hidden,\n",
        "                  kernel_size=3,\n",
        "                  padding=1),\n",
        "        nn.ReLU(),\n",
        "        nn.MaxPool2d(kernel_size=2,\n",
        "                        stride=2)\n",
        "    )\n",
        "    self.classification = nn.Sequential(\n",
        "        nn.Flatten(),\n",
        "        nn.Linear(in_features=hidden*7*7, out_features=outs)\n",
        "    )\n",
        "\n",
        "  def forward(self, X):\n",
        "    return self.classification(self.block_2(self.block_1(X)))"
      ],
      "metadata": {
        "id": "9X_ZDfvtqyqS"
      },
      "execution_count": 127,
      "outputs": []
    },
    {
      "cell_type": "code",
      "source": [
        "model = ConvModel(ins=1, hidden=10, outs=len(classes)).to(device)\n",
        "model"
      ],
      "metadata": {
        "colab": {
          "base_uri": "https://localhost:8080/"
        },
        "id": "zFxDmygxvoH9",
        "outputId": "6f703998-1353-4a7a-d379-41100219adf1"
      },
      "execution_count": 128,
      "outputs": [
        {
          "output_type": "execute_result",
          "data": {
            "text/plain": [
              "ConvModel(\n",
              "  (block_1): Sequential(\n",
              "    (0): Conv2d(1, 10, kernel_size=(3, 3), stride=(1, 1), padding=(1, 1))\n",
              "    (1): ReLU()\n",
              "    (2): Conv2d(10, 10, kernel_size=(3, 3), stride=(1, 1), padding=(1, 1))\n",
              "    (3): ReLU()\n",
              "    (4): MaxPool2d(kernel_size=2, stride=2, padding=0, dilation=1, ceil_mode=False)\n",
              "  )\n",
              "  (block_2): Sequential(\n",
              "    (0): Conv2d(10, 10, kernel_size=(3, 3), stride=(1, 1), padding=(1, 1))\n",
              "    (1): ReLU()\n",
              "    (2): Conv2d(10, 10, kernel_size=(3, 3), stride=(1, 1), padding=(1, 1))\n",
              "    (3): ReLU()\n",
              "    (4): MaxPool2d(kernel_size=2, stride=2, padding=0, dilation=1, ceil_mode=False)\n",
              "  )\n",
              "  (classification): Sequential(\n",
              "    (0): Flatten(start_dim=1, end_dim=-1)\n",
              "    (1): Linear(in_features=490, out_features=10, bias=True)\n",
              "  )\n",
              ")"
            ]
          },
          "metadata": {},
          "execution_count": 128
        }
      ]
    },
    {
      "cell_type": "code",
      "source": [
        "loss_fn = nn.CrossEntropyLoss()\n",
        "optimizer = torch.optim.SGD(params=model.parameters(), lr=0.1)"
      ],
      "metadata": {
        "id": "nNzBPqvZ5-Cy"
      },
      "execution_count": 129,
      "outputs": []
    },
    {
      "cell_type": "code",
      "source": [
        "train_start = timer()\n",
        "\n",
        "epochs = 11\n",
        "\n",
        "for epoch in range(epochs):\n",
        "  print(f\"Epoch {epoch}   ---------------\\n\")\n",
        "  training(model, train_dataloader, loss_fn, optimizer)\n",
        "  if epoch % 10 == 0 : testing(model, test_dataloader, loss_fn, optimizer)\n",
        "\n",
        "train_end = timer()\n",
        "print(train_end-train_start)"
      ],
      "metadata": {
        "colab": {
          "base_uri": "https://localhost:8080/"
        },
        "id": "Of9jkNbSv2w-",
        "outputId": "dd89a66b-25fd-40f8-b8f7-c5df1dc441bd"
      },
      "execution_count": 130,
      "outputs": [
        {
          "output_type": "stream",
          "name": "stdout",
          "text": [
            "Epoch 0   ---------------\n",
            "\n",
            "Train Loss 1.8138347864151 | Train Accuracy 32.617811501597444\n",
            "Test Loss 0.9195432662963867 | Test Accuracy 67.53194888178913\n",
            "Epoch 1   ---------------\n",
            "\n",
            "Train Loss 0.6406013369560242 | Train Accuracy 76.95686900958466\n",
            "Epoch 2   ---------------\n",
            "\n",
            "Train Loss 0.5006733536720276 | Train Accuracy 81.92891373801918\n",
            "Epoch 3   ---------------\n",
            "\n",
            "Train Loss 0.4437004625797272 | Train Accuracy 83.95567092651757\n",
            "Epoch 4   ---------------\n",
            "\n",
            "Train Loss 0.40872976183891296 | Train Accuracy 85.24361022364218\n",
            "Epoch 5   ---------------\n",
            "\n",
            "Train Loss 0.3867621123790741 | Train Accuracy 85.90255591054313\n",
            "Epoch 6   ---------------\n",
            "\n",
            "Train Loss 0.36587145924568176 | Train Accuracy 87.05071884984025\n",
            "Epoch 7   ---------------\n",
            "\n",
            "Train Loss 0.3477116525173187 | Train Accuracy 87.56988817891374\n",
            "Epoch 8   ---------------\n",
            "\n",
            "Train Loss 0.3382503390312195 | Train Accuracy 88.11900958466454\n",
            "Epoch 9   ---------------\n",
            "\n",
            "Train Loss 0.32772740721702576 | Train Accuracy 88.31869009584665\n",
            "Epoch 10   ---------------\n",
            "\n",
            "Train Loss 0.31381818652153015 | Train Accuracy 88.73801916932908\n",
            "Test Loss 0.3098253905773163 | Test Accuracy 88.54832268370608\n",
            "22.44040935999965\n"
          ]
        }
      ]
    },
    {
      "cell_type": "code",
      "source": [
        "convModel, preds = eval_model(model, test_dataloader, loss_fn, optimizer)"
      ],
      "metadata": {
        "id": "hwn344uJxVvY"
      },
      "execution_count": 131,
      "outputs": []
    },
    {
      "cell_type": "code",
      "source": [
        "import pandas as pd"
      ],
      "metadata": {
        "id": "TlzitruyzMT7"
      },
      "execution_count": 132,
      "outputs": []
    },
    {
      "cell_type": "code",
      "source": [
        "results = pd.DataFrame([convModel, classModel])\n",
        "results"
      ],
      "metadata": {
        "colab": {
          "base_uri": "https://localhost:8080/",
          "height": 112
        },
        "id": "hyn0qMZly6NI",
        "outputId": "92fcd80d-a5cd-432e-a753-fd6c62d0d235"
      },
      "execution_count": 133,
      "outputs": [
        {
          "output_type": "execute_result",
          "data": {
            "text/plain": [
              "               Model  Test Loss  Test Accuracy\n",
              "0          ConvModel   0.309825      88.548323\n",
              "1  FashionMNISTModel   0.522063      80.770767"
            ],
            "text/html": [
              "\n",
              "  <div id=\"df-53f88061-3934-4034-acf9-8d3fba4c7a64\">\n",
              "    <div class=\"colab-df-container\">\n",
              "      <div>\n",
              "<style scoped>\n",
              "    .dataframe tbody tr th:only-of-type {\n",
              "        vertical-align: middle;\n",
              "    }\n",
              "\n",
              "    .dataframe tbody tr th {\n",
              "        vertical-align: top;\n",
              "    }\n",
              "\n",
              "    .dataframe thead th {\n",
              "        text-align: right;\n",
              "    }\n",
              "</style>\n",
              "<table border=\"1\" class=\"dataframe\">\n",
              "  <thead>\n",
              "    <tr style=\"text-align: right;\">\n",
              "      <th></th>\n",
              "      <th>Model</th>\n",
              "      <th>Test Loss</th>\n",
              "      <th>Test Accuracy</th>\n",
              "    </tr>\n",
              "  </thead>\n",
              "  <tbody>\n",
              "    <tr>\n",
              "      <th>0</th>\n",
              "      <td>ConvModel</td>\n",
              "      <td>0.309825</td>\n",
              "      <td>88.548323</td>\n",
              "    </tr>\n",
              "    <tr>\n",
              "      <th>1</th>\n",
              "      <td>FashionMNISTModel</td>\n",
              "      <td>0.522063</td>\n",
              "      <td>80.770767</td>\n",
              "    </tr>\n",
              "  </tbody>\n",
              "</table>\n",
              "</div>\n",
              "      <button class=\"colab-df-convert\" onclick=\"convertToInteractive('df-53f88061-3934-4034-acf9-8d3fba4c7a64')\"\n",
              "              title=\"Convert this dataframe to an interactive table.\"\n",
              "              style=\"display:none;\">\n",
              "        \n",
              "  <svg xmlns=\"http://www.w3.org/2000/svg\" height=\"24px\"viewBox=\"0 0 24 24\"\n",
              "       width=\"24px\">\n",
              "    <path d=\"M0 0h24v24H0V0z\" fill=\"none\"/>\n",
              "    <path d=\"M18.56 5.44l.94 2.06.94-2.06 2.06-.94-2.06-.94-.94-2.06-.94 2.06-2.06.94zm-11 1L8.5 8.5l.94-2.06 2.06-.94-2.06-.94L8.5 2.5l-.94 2.06-2.06.94zm10 10l.94 2.06.94-2.06 2.06-.94-2.06-.94-.94-2.06-.94 2.06-2.06.94z\"/><path d=\"M17.41 7.96l-1.37-1.37c-.4-.4-.92-.59-1.43-.59-.52 0-1.04.2-1.43.59L10.3 9.45l-7.72 7.72c-.78.78-.78 2.05 0 2.83L4 21.41c.39.39.9.59 1.41.59.51 0 1.02-.2 1.41-.59l7.78-7.78 2.81-2.81c.8-.78.8-2.07 0-2.86zM5.41 20L4 18.59l7.72-7.72 1.47 1.35L5.41 20z\"/>\n",
              "  </svg>\n",
              "      </button>\n",
              "      \n",
              "  <style>\n",
              "    .colab-df-container {\n",
              "      display:flex;\n",
              "      flex-wrap:wrap;\n",
              "      gap: 12px;\n",
              "    }\n",
              "\n",
              "    .colab-df-convert {\n",
              "      background-color: #E8F0FE;\n",
              "      border: none;\n",
              "      border-radius: 50%;\n",
              "      cursor: pointer;\n",
              "      display: none;\n",
              "      fill: #1967D2;\n",
              "      height: 32px;\n",
              "      padding: 0 0 0 0;\n",
              "      width: 32px;\n",
              "    }\n",
              "\n",
              "    .colab-df-convert:hover {\n",
              "      background-color: #E2EBFA;\n",
              "      box-shadow: 0px 1px 2px rgba(60, 64, 67, 0.3), 0px 1px 3px 1px rgba(60, 64, 67, 0.15);\n",
              "      fill: #174EA6;\n",
              "    }\n",
              "\n",
              "    [theme=dark] .colab-df-convert {\n",
              "      background-color: #3B4455;\n",
              "      fill: #D2E3FC;\n",
              "    }\n",
              "\n",
              "    [theme=dark] .colab-df-convert:hover {\n",
              "      background-color: #434B5C;\n",
              "      box-shadow: 0px 1px 3px 1px rgba(0, 0, 0, 0.15);\n",
              "      filter: drop-shadow(0px 1px 2px rgba(0, 0, 0, 0.3));\n",
              "      fill: #FFFFFF;\n",
              "    }\n",
              "  </style>\n",
              "\n",
              "      <script>\n",
              "        const buttonEl =\n",
              "          document.querySelector('#df-53f88061-3934-4034-acf9-8d3fba4c7a64 button.colab-df-convert');\n",
              "        buttonEl.style.display =\n",
              "          google.colab.kernel.accessAllowed ? 'block' : 'none';\n",
              "\n",
              "        async function convertToInteractive(key) {\n",
              "          const element = document.querySelector('#df-53f88061-3934-4034-acf9-8d3fba4c7a64');\n",
              "          const dataTable =\n",
              "            await google.colab.kernel.invokeFunction('convertToInteractive',\n",
              "                                                     [key], {});\n",
              "          if (!dataTable) return;\n",
              "\n",
              "          const docLinkHtml = 'Like what you see? Visit the ' +\n",
              "            '<a target=\"_blank\" href=https://colab.research.google.com/notebooks/data_table.ipynb>data table notebook</a>'\n",
              "            + ' to learn more about interactive tables.';\n",
              "          element.innerHTML = '';\n",
              "          dataTable['output_type'] = 'display_data';\n",
              "          await google.colab.output.renderOutput(dataTable, element);\n",
              "          const docLink = document.createElement('div');\n",
              "          docLink.innerHTML = docLinkHtml;\n",
              "          element.appendChild(docLink);\n",
              "        }\n",
              "      </script>\n",
              "    </div>\n",
              "  </div>\n",
              "  "
            ]
          },
          "metadata": {},
          "execution_count": 133
        }
      ]
    },
    {
      "cell_type": "code",
      "source": [
        "try:\n",
        "    import torchmetrics, mlxtend\n",
        "    print(f\"mlxtend version: {mlxtend.__version__}\")\n",
        "    assert int(mlxtend.__version__.split(\".\")[1]) >= 19, \"mlxtend verison should be 0.19.0 or higher\"\n",
        "except:\n",
        "    %pip install -q torchmetrics -U mlxtend # <- Note: If you're using Google Colab, this may require restarting the runtime\n",
        "    import torchmetrics, mlxtend\n",
        "    print(f\"mlxtend version: {mlxtend.__version__}\")"
      ],
      "metadata": {
        "colab": {
          "base_uri": "https://localhost:8080/"
        },
        "id": "xsK3D1BVy9BR",
        "outputId": "dd53839f-800d-4da0-eb6d-bee863d578ba"
      },
      "execution_count": 76,
      "outputs": [
        {
          "output_type": "stream",
          "name": "stdout",
          "text": [
            "\u001b[2K     \u001b[90m━━━━━━━━━━━━━━━━━━━━━━━━━━━━━━━━━━━━━━\u001b[0m \u001b[32m512.4/512.4 KB\u001b[0m \u001b[31m23.8 MB/s\u001b[0m eta \u001b[36m0:00:00\u001b[0m\n",
            "\u001b[2K     \u001b[90m━━━━━━━━━━━━━━━━━━━━━━━━━━━━━━━━━━━━━━━━\u001b[0m \u001b[32m1.3/1.3 MB\u001b[0m \u001b[31m69.2 MB/s\u001b[0m eta \u001b[36m0:00:00\u001b[0m\n",
            "\u001b[?25hmlxtend version: 0.21.0\n"
          ]
        }
      ]
    },
    {
      "cell_type": "code",
      "source": [
        "def inference(model: torch.nn.Module,\n",
        "             dataloader: torch.utils.data.DataLoader,\n",
        "             device: torch.device = device):\n",
        "  predections = []\n",
        "  model.eval()\n",
        "  with torch.inference_mode():\n",
        "    for X, Y in dataloader:\n",
        "      X,Y = X.to(device), Y.to(device)\n",
        "      preds = torch.softmax(model(X), dim=1).argmax(dim=1)\n",
        "\n",
        "      predections.append(preds.cpu())\n",
        "\n",
        "  return torch.cat(predections)"
      ],
      "metadata": {
        "id": "XejO_0N62mMr"
      },
      "execution_count": 134,
      "outputs": []
    },
    {
      "cell_type": "code",
      "source": [
        "from torchmetrics import ConfusionMatrix\n",
        "from mlxtend.plotting import plot_confusion_matrix"
      ],
      "metadata": {
        "id": "4Wt1iN960Emy"
      },
      "execution_count": 135,
      "outputs": []
    },
    {
      "cell_type": "code",
      "source": [
        "predections = inference(model, test_dataloader)"
      ],
      "metadata": {
        "id": "pkp8oFuG3H21"
      },
      "execution_count": 136,
      "outputs": []
    },
    {
      "cell_type": "code",
      "source": [
        "confmat = ConfusionMatrix(num_classes=len(train_data.classes), task='multiclass')\n",
        "confmat_tensor = confmat(preds=predections, target=test_data.targets)"
      ],
      "metadata": {
        "id": "B7VnjuGm0inR"
      },
      "execution_count": 138,
      "outputs": []
    },
    {
      "cell_type": "code",
      "source": [
        "fig, ax = plot_confusion_matrix(\n",
        "    conf_mat=confmat_tensor.numpy(),\n",
        "    class_names=train_data.classes, \n",
        "    figsize=(10, 7)\n",
        ");"
      ],
      "metadata": {
        "colab": {
          "base_uri": "https://localhost:8080/",
          "height": 477
        },
        "id": "6yxJIlCw1laR",
        "outputId": "ba7a7e34-4a47-4728-b90f-e1f335facf7b"
      },
      "execution_count": 139,
      "outputs": [
        {
          "output_type": "display_data",
          "data": {
            "text/plain": [
              "<Figure size 720x504 with 1 Axes>"
            ],
            "image/png": "[encoded data removed]"
          },
          "metadata": {
            "needs_background": "light"
          }
        }
      ]
    },
    {
      "cell_type": "markdown",
      "source": [
        "### To Save The Model\n",
        "\n",
        "```\n",
        "torch.save(obj=model.state_dict(), f=MODEL_PATH)\n",
        "```\n",
        "### To Load The Model\n",
        "\n",
        "```\n",
        "model = Instance_of_the_same_model()\n",
        "model.load_state_dict(torch.load(f=MODEL_PATH))\n",
        "```\n",
        "\n"
      ],
      "metadata": {
        "id": "ZseuwCqi6iuU"
      }
    },
    {
      "cell_type": "code",
      "source": [],
      "metadata": {
        "id": "KZxtu1nc5pBN"
      },
      "execution_count": null,
      "outputs": []
    }
  ]
}