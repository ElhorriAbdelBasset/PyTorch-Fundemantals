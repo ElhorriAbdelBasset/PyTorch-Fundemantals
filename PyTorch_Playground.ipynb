{
  "nbformat": 4,
  "nbformat_minor": 0,
  "metadata": {
    "colab": {
      "provenance": []
    },
    "kernelspec": {
      "name": "python3",
      "display_name": "Python 3"
    },
    "language_info": {
      "name": "python"
    },
    "gpuClass": "standard",
    "accelerator": "GPU"
  },
  "cells": [
    {
      "cell_type": "code",
      "execution_count": 1,
      "metadata": {
        "id": "KwUtPh7PDC3q"
      },
      "outputs": [],
      "source": [
        "import torch"
      ]
    },
    {
      "cell_type": "code",
      "source": [
        "torch.tensor(9)"
      ],
      "metadata": {
        "colab": {
          "base_uri": "https://localhost:8080/"
        },
        "id": "GME5yfgXDG6D",
        "outputId": "f1f9b7ee-22c5-4f2e-d2f7-6cdadf4b3852"
      },
      "execution_count": 2,
      "outputs": [
        {
          "output_type": "execute_result",
          "data": {
            "text/plain": [
              "tensor(9)"
            ]
          },
          "metadata": {},
          "execution_count": 2
        }
      ]
    },
    {
      "cell_type": "code",
      "source": [
        "MAT = torch.tensor([[i for i in range(10)] for l in range(10)])\n",
        "MAT"
      ],
      "metadata": {
        "colab": {
          "base_uri": "https://localhost:8080/"
        },
        "id": "ui7wiDs0DMfR",
        "outputId": "95d37b47-5a76-4857-f8db-79a63f7a31e0"
      },
      "execution_count": 3,
      "outputs": [
        {
          "output_type": "execute_result",
          "data": {
            "text/plain": [
              "tensor([[0, 1, 2, 3, 4, 5, 6, 7, 8, 9],\n",
              "        [0, 1, 2, 3, 4, 5, 6, 7, 8, 9],\n",
              "        [0, 1, 2, 3, 4, 5, 6, 7, 8, 9],\n",
              "        [0, 1, 2, 3, 4, 5, 6, 7, 8, 9],\n",
              "        [0, 1, 2, 3, 4, 5, 6, 7, 8, 9],\n",
              "        [0, 1, 2, 3, 4, 5, 6, 7, 8, 9],\n",
              "        [0, 1, 2, 3, 4, 5, 6, 7, 8, 9],\n",
              "        [0, 1, 2, 3, 4, 5, 6, 7, 8, 9],\n",
              "        [0, 1, 2, 3, 4, 5, 6, 7, 8, 9],\n",
              "        [0, 1, 2, 3, 4, 5, 6, 7, 8, 9]])"
            ]
          },
          "metadata": {},
          "execution_count": 3
        }
      ]
    },
    {
      "cell_type": "code",
      "source": [
        "MAT.ndim"
      ],
      "metadata": {
        "colab": {
          "base_uri": "https://localhost:8080/"
        },
        "id": "-9uTWTuXDbYm",
        "outputId": "4cde7dfd-bf0f-4b2d-acc4-39c686625256"
      },
      "execution_count": 4,
      "outputs": [
        {
          "output_type": "execute_result",
          "data": {
            "text/plain": [
              "2"
            ]
          },
          "metadata": {},
          "execution_count": 4
        }
      ]
    },
    {
      "cell_type": "code",
      "source": [
        "RANDOM_TENSOR = torch.rand((4,5,2))"
      ],
      "metadata": {
        "id": "cX1TMTMjDryf"
      },
      "execution_count": 5,
      "outputs": []
    },
    {
      "cell_type": "code",
      "source": [
        "RANDOM_TENSOR"
      ],
      "metadata": {
        "colab": {
          "base_uri": "https://localhost:8080/"
        },
        "id": "Th9OxBI-E8os",
        "outputId": "be24a96b-115e-4bc0-dae6-a1f58726c0b8"
      },
      "execution_count": 6,
      "outputs": [
        {
          "output_type": "execute_result",
          "data": {
            "text/plain": [
              "tensor([[[0.4067, 0.2821],\n",
              "         [0.9694, 0.5648],\n",
              "         [0.6068, 0.2422],\n",
              "         [0.6885, 0.0889],\n",
              "         [0.1664, 0.8059]],\n",
              "\n",
              "        [[0.6550, 0.5503],\n",
              "         [0.3923, 0.7500],\n",
              "         [0.0743, 0.8027],\n",
              "         [0.7237, 0.6752],\n",
              "         [0.6137, 0.7360]],\n",
              "\n",
              "        [[0.8277, 0.6785],\n",
              "         [0.7840, 0.0201],\n",
              "         [0.2379, 0.0780],\n",
              "         [0.8087, 0.8207],\n",
              "         [0.5928, 0.3629]],\n",
              "\n",
              "        [[0.3443, 0.8334],\n",
              "         [0.6081, 0.5081],\n",
              "         [0.6915, 0.7985],\n",
              "         [0.8018, 0.2082],\n",
              "         [0.8393, 0.4780]]])"
            ]
          },
          "metadata": {},
          "execution_count": 6
        }
      ]
    },
    {
      "cell_type": "code",
      "source": [
        "ZEROS_TENSOR = torch.zeros((4,5,2))\n",
        "ZEROS_TENSOR"
      ],
      "metadata": {
        "colab": {
          "base_uri": "https://localhost:8080/"
        },
        "id": "kgWQg-sEE-am",
        "outputId": "6ec6ee31-37db-4f65-a943-a15dbe11b085"
      },
      "execution_count": 7,
      "outputs": [
        {
          "output_type": "execute_result",
          "data": {
            "text/plain": [
              "tensor([[[0., 0.],\n",
              "         [0., 0.],\n",
              "         [0., 0.],\n",
              "         [0., 0.],\n",
              "         [0., 0.]],\n",
              "\n",
              "        [[0., 0.],\n",
              "         [0., 0.],\n",
              "         [0., 0.],\n",
              "         [0., 0.],\n",
              "         [0., 0.]],\n",
              "\n",
              "        [[0., 0.],\n",
              "         [0., 0.],\n",
              "         [0., 0.],\n",
              "         [0., 0.],\n",
              "         [0., 0.]],\n",
              "\n",
              "        [[0., 0.],\n",
              "         [0., 0.],\n",
              "         [0., 0.],\n",
              "         [0., 0.],\n",
              "         [0., 0.]]])"
            ]
          },
          "metadata": {},
          "execution_count": 7
        }
      ]
    },
    {
      "cell_type": "code",
      "source": [
        "ONES_TENSOR = torch.ones((4,5,2))\n",
        "ONES_TENSOR"
      ],
      "metadata": {
        "colab": {
          "base_uri": "https://localhost:8080/"
        },
        "id": "zQOx779FG62B",
        "outputId": "3cd1642a-3f5f-4897-cabf-9ebd0422393a"
      },
      "execution_count": 8,
      "outputs": [
        {
          "output_type": "execute_result",
          "data": {
            "text/plain": [
              "tensor([[[1., 1.],\n",
              "         [1., 1.],\n",
              "         [1., 1.],\n",
              "         [1., 1.],\n",
              "         [1., 1.]],\n",
              "\n",
              "        [[1., 1.],\n",
              "         [1., 1.],\n",
              "         [1., 1.],\n",
              "         [1., 1.],\n",
              "         [1., 1.]],\n",
              "\n",
              "        [[1., 1.],\n",
              "         [1., 1.],\n",
              "         [1., 1.],\n",
              "         [1., 1.],\n",
              "         [1., 1.]],\n",
              "\n",
              "        [[1., 1.],\n",
              "         [1., 1.],\n",
              "         [1., 1.],\n",
              "         [1., 1.],\n",
              "         [1., 1.]]])"
            ]
          },
          "metadata": {},
          "execution_count": 8
        }
      ]
    },
    {
      "cell_type": "code",
      "source": [
        "ID_TENSOR = torch.eye(4, 5)\n",
        "ID_TENSOR"
      ],
      "metadata": {
        "colab": {
          "base_uri": "https://localhost:8080/"
        },
        "id": "IHB_AhZxHAFw",
        "outputId": "786f0cd8-1c16-4ec6-821f-4730ef81f85c"
      },
      "execution_count": 9,
      "outputs": [
        {
          "output_type": "execute_result",
          "data": {
            "text/plain": [
              "tensor([[1., 0., 0., 0., 0.],\n",
              "        [0., 1., 0., 0., 0.],\n",
              "        [0., 0., 1., 0., 0.],\n",
              "        [0., 0., 0., 1., 0.]])"
            ]
          },
          "metadata": {},
          "execution_count": 9
        }
      ]
    },
    {
      "cell_type": "code",
      "source": [
        "RANGE_VALUES_TENSOR = torch.arange(0,10)\n",
        "RANGE_VALUES_TENSOR"
      ],
      "metadata": {
        "colab": {
          "base_uri": "https://localhost:8080/"
        },
        "id": "ZkOBsfNZHMvE",
        "outputId": "2ffb101e-226a-43b1-8ca2-1f2fe4aec18d"
      },
      "execution_count": 10,
      "outputs": [
        {
          "output_type": "execute_result",
          "data": {
            "text/plain": [
              "tensor([0, 1, 2, 3, 4, 5, 6, 7, 8, 9])"
            ]
          },
          "metadata": {},
          "execution_count": 10
        }
      ]
    },
    {
      "cell_type": "code",
      "source": [
        "ZEROES_TENSOR_LIKE = torch.zeros_like(RANGE_VALUES_TENSOR)\n",
        "ZEROES_TENSOR_LIKE"
      ],
      "metadata": {
        "colab": {
          "base_uri": "https://localhost:8080/"
        },
        "id": "lFhxzKCcInK9",
        "outputId": "66d90338-ddfe-4062-fa60-e155675de7f1"
      },
      "execution_count": 11,
      "outputs": [
        {
          "output_type": "execute_result",
          "data": {
            "text/plain": [
              "tensor([0, 0, 0, 0, 0, 0, 0, 0, 0, 0])"
            ]
          },
          "metadata": {},
          "execution_count": 11
        }
      ]
    },
    {
      "cell_type": "code",
      "source": [
        "ONES_TENSOR_LIKE = torch.ones_like(RANGE_VALUES_TENSOR)\n",
        "ONES_TENSOR_LIKE"
      ],
      "metadata": {
        "colab": {
          "base_uri": "https://localhost:8080/"
        },
        "id": "-lomQNYJeVtG",
        "outputId": "1febb782-f134-4df4-e211-a9b3fee381c9"
      },
      "execution_count": 12,
      "outputs": [
        {
          "output_type": "execute_result",
          "data": {
            "text/plain": [
              "tensor([1, 1, 1, 1, 1, 1, 1, 1, 1, 1])"
            ]
          },
          "metadata": {},
          "execution_count": 12
        }
      ]
    },
    {
      "cell_type": "markdown",
      "source": [
        "## The Most Common Errors In Tensor Manipulation\n",
        "\n",
        "1. Tensors not right datatype.\n",
        "2. Tensors not right shape.\n",
        "3. Tensors not on right device.\n"
      ],
      "metadata": {
        "id": "mdNuPwAlejs1"
      }
    },
    {
      "cell_type": "markdown",
      "source": [
        "\n",
        "```\n",
        "TEST = torch.tensor([1, 2, 6],\n",
        "                    dtype= 'torch.float32' or 'torch.float16' or 'torch.float64'\n",
        "                    device= 'cpu' or 'cuda'\n",
        "                    requeries_grad= True or False)\n",
        "```\n",
        "\n"
      ],
      "metadata": {
        "id": "LW9F-KnuCFRb"
      }
    },
    {
      "cell_type": "code",
      "source": [
        "torch.matmul(RANGE_VALUES_TENSOR, ONES_TENSOR_LIKE)"
      ],
      "metadata": {
        "colab": {
          "base_uri": "https://localhost:8080/"
        },
        "id": "jfJHU9Cov2A1",
        "outputId": "6235d777-4d22-45fa-d6b2-98ec6c620b2f"
      },
      "execution_count": 13,
      "outputs": [
        {
          "output_type": "execute_result",
          "data": {
            "text/plain": [
              "tensor(45)"
            ]
          },
          "metadata": {},
          "execution_count": 13
        }
      ]
    },
    {
      "cell_type": "code",
      "source": [
        "def matrixMul(Mat1, Mat2):\n",
        "  if Mat1.shape[1] == Mat2.shape[0]:\n",
        "    RESULT = []\n",
        "    for line1 in Mat1:\n",
        "      LINE = []\n",
        "      for line2 in Mat2.T:\n",
        "        line = line1 * line2\n",
        "        LINE.append(sum(line))\n",
        "      RESULT.append(LINE)\n",
        "      LINE = []\n",
        "    return torch.tensor(RESULT)\n",
        "  else:\n",
        "    return \"Can't Multiply, Not right shape\""
      ],
      "metadata": {
        "id": "hlIgwrw58BH0"
      },
      "execution_count": 14,
      "outputs": []
    },
    {
      "cell_type": "code",
      "source": [
        "tensor1 = torch.tensor([[2,1],[5,9]])\n",
        "tensor2 = torch.tensor([[2,1],[5,9]])"
      ],
      "metadata": {
        "id": "wrV6inan9nzi"
      },
      "execution_count": 15,
      "outputs": []
    },
    {
      "cell_type": "code",
      "source": [
        "%%time\n",
        "matrixMul(tensor1, tensor2)"
      ],
      "metadata": {
        "colab": {
          "base_uri": "https://localhost:8080/"
        },
        "id": "pt0JtUnn9w50",
        "outputId": "fdf27367-2bf5-4177-ddf5-c36ba163b5a5"
      },
      "execution_count": 16,
      "outputs": [
        {
          "output_type": "stream",
          "name": "stdout",
          "text": [
            "CPU times: user 1.63 ms, sys: 115 µs, total: 1.75 ms\n",
            "Wall time: 6 ms\n"
          ]
        },
        {
          "output_type": "execute_result",
          "data": {
            "text/plain": [
              "tensor([[ 9, 11],\n",
              "        [55, 86]])"
            ]
          },
          "metadata": {},
          "execution_count": 16
        }
      ]
    },
    {
      "cell_type": "code",
      "source": [
        "%%time\n",
        "tensor1.matmul(tensor2)"
      ],
      "metadata": {
        "colab": {
          "base_uri": "https://localhost:8080/"
        },
        "id": "U16XCa4IBvr5",
        "outputId": "8d5adef7-9a3d-4dfc-db78-39cecbfd0789"
      },
      "execution_count": 17,
      "outputs": [
        {
          "output_type": "stream",
          "name": "stdout",
          "text": [
            "CPU times: user 668 µs, sys: 767 µs, total: 1.44 ms\n",
            "Wall time: 4.35 ms\n"
          ]
        },
        {
          "output_type": "execute_result",
          "data": {
            "text/plain": [
              "tensor([[ 9, 11],\n",
              "        [55, 86]])"
            ]
          },
          "metadata": {},
          "execution_count": 17
        }
      ]
    },
    {
      "cell_type": "markdown",
      "source": [
        "* Reshape(): Reshapes the tensor into another shape that's compatibale to make.\n",
        "* View(): Same as reshape but shares the memory with the original tensor, like BDD.\n",
        "* Squeeze(): Removes dimensions with 1 like (1,2,4) -> (2,4).\n",
        "* Unsqueeze(): Adds 1 dimension at dim=x.\n",
        "* Stack(): Concatenate tensors like v1, v2, v3 -> (v1, v2, v3).\n",
        "* Permute(): "
      ],
      "metadata": {
        "id": "KMdZkZoeBz5P"
      }
    },
    {
      "cell_type": "code",
      "source": [
        "tensor1 = tensor1.reshape((1,4))\n",
        "tensor2 = tensor2.reshape((1,4))"
      ],
      "metadata": {
        "id": "6TUAUkcbE2sC"
      },
      "execution_count": 18,
      "outputs": []
    },
    {
      "cell_type": "code",
      "source": [
        "torch.stack((tensor1, tensor2), dim=1).shape"
      ],
      "metadata": {
        "colab": {
          "base_uri": "https://localhost:8080/"
        },
        "id": "Iiy52u4JE6io",
        "outputId": "d361619b-2fa3-4b0f-968a-c044e54f63fb"
      },
      "execution_count": 19,
      "outputs": [
        {
          "output_type": "execute_result",
          "data": {
            "text/plain": [
              "torch.Size([1, 2, 4])"
            ]
          },
          "metadata": {},
          "execution_count": 19
        }
      ]
    },
    {
      "cell_type": "code",
      "source": [
        "tensor1 = torch.tensor([[2,1,9],[5,9,2]])\n",
        "tensor2 = torch.tensor([[2,4,6],[4,9,0]])\n",
        "tensor = torch.stack((tensor1, tensor2), dim=1)\n",
        "tensor"
      ],
      "metadata": {
        "colab": {
          "base_uri": "https://localhost:8080/"
        },
        "id": "WvW0NiBxF13V",
        "outputId": "0a64ebaa-4e8f-4d17-87ec-a745acc0fbab"
      },
      "execution_count": 20,
      "outputs": [
        {
          "output_type": "execute_result",
          "data": {
            "text/plain": [
              "tensor([[[2, 1, 9],\n",
              "         [2, 4, 6]],\n",
              "\n",
              "        [[5, 9, 2],\n",
              "         [4, 9, 0]]])"
            ]
          },
          "metadata": {},
          "execution_count": 20
        }
      ]
    },
    {
      "cell_type": "code",
      "source": [
        "tensor.shape"
      ],
      "metadata": {
        "colab": {
          "base_uri": "https://localhost:8080/"
        },
        "id": "shpK5J-iNOym",
        "outputId": "d2a4e918-c747-4fad-f307-5a8730c5d6f5"
      },
      "execution_count": 21,
      "outputs": [
        {
          "output_type": "execute_result",
          "data": {
            "text/plain": [
              "torch.Size([2, 2, 3])"
            ]
          },
          "metadata": {},
          "execution_count": 21
        }
      ]
    },
    {
      "cell_type": "code",
      "source": [
        "torch.from_numpy(tensor.numpy())"
      ],
      "metadata": {
        "colab": {
          "base_uri": "https://localhost:8080/"
        },
        "id": "-VS31Ex9M_Kt",
        "outputId": "126332ed-24a8-4dd0-db1e-8318b627ddde"
      },
      "execution_count": 22,
      "outputs": [
        {
          "output_type": "execute_result",
          "data": {
            "text/plain": [
              "tensor([[[2, 1, 9],\n",
              "         [2, 4, 6]],\n",
              "\n",
              "        [[5, 9, 2],\n",
              "         [4, 9, 0]]])"
            ]
          },
          "metadata": {},
          "execution_count": 22
        }
      ]
    },
    {
      "cell_type": "code",
      "source": [
        "!nvidia-smi"
      ],
      "metadata": {
        "colab": {
          "base_uri": "https://localhost:8080/"
        },
        "id": "Lp-ktKVAjQxq",
        "outputId": "bbcc1857-3c43-4506-9a78-012f6432ebbb"
      },
      "execution_count": 23,
      "outputs": [
        {
          "output_type": "stream",
          "name": "stdout",
          "text": [
            "Mon Dec 26 18:12:43 2022       \n",
            "+-----------------------------------------------------------------------------+\n",
            "| NVIDIA-SMI 460.32.03    Driver Version: 460.32.03    CUDA Version: 11.2     |\n",
            "|-------------------------------+----------------------+----------------------+\n",
            "| GPU  Name        Persistence-M| Bus-Id        Disp.A | Volatile Uncorr. ECC |\n",
            "| Fan  Temp  Perf  Pwr:Usage/Cap|         Memory-Usage | GPU-Util  Compute M. |\n",
            "|                               |                      |               MIG M. |\n",
            "|===============================+======================+======================|\n",
            "|   0  Tesla T4            Off  | 00000000:00:04.0 Off |                    0 |\n",
            "| N/A   50C    P0    26W /  70W |      0MiB / 15109MiB |      0%      Default |\n",
            "|                               |                      |                  N/A |\n",
            "+-------------------------------+----------------------+----------------------+\n",
            "                                                                               \n",
            "+-----------------------------------------------------------------------------+\n",
            "| Processes:                                                                  |\n",
            "|  GPU   GI   CI        PID   Type   Process name                  GPU Memory |\n",
            "|        ID   ID                                                   Usage      |\n",
            "|=============================================================================|\n",
            "|  No running processes found                                                 |\n",
            "+-----------------------------------------------------------------------------+\n"
          ]
        }
      ]
    },
    {
      "cell_type": "code",
      "source": [
        "torch.cuda.is_available(), torch.cuda.device_count()"
      ],
      "metadata": {
        "colab": {
          "base_uri": "https://localhost:8080/"
        },
        "id": "1J8I6MyPrBJc",
        "outputId": "73436084-c3d0-46ab-d8b1-d284c0d974c9"
      },
      "execution_count": 24,
      "outputs": [
        {
          "output_type": "execute_result",
          "data": {
            "text/plain": [
              "(True, 1)"
            ]
          },
          "metadata": {},
          "execution_count": 24
        }
      ]
    },
    {
      "cell_type": "code",
      "source": [
        "# Move Tensor To GPU\n",
        "tensor_gpu = tensor.to('cuda')"
      ],
      "metadata": {
        "id": "kwSw996ErXdA"
      },
      "execution_count": 25,
      "outputs": []
    },
    {
      "cell_type": "code",
      "source": [
        "tensor_gpu"
      ],
      "metadata": {
        "colab": {
          "base_uri": "https://localhost:8080/"
        },
        "id": "Yvvg1Eo_sVw4",
        "outputId": "1301f464-9cf5-4242-c2ca-092a292c14c3"
      },
      "execution_count": 26,
      "outputs": [
        {
          "output_type": "execute_result",
          "data": {
            "text/plain": [
              "tensor([[[2, 1, 9],\n",
              "         [2, 4, 6]],\n",
              "\n",
              "        [[5, 9, 2],\n",
              "         [4, 9, 0]]], device='cuda:0')"
            ]
          },
          "metadata": {},
          "execution_count": 26
        }
      ]
    },
    {
      "cell_type": "code",
      "source": [
        "# Tensor in GPU moved into CPU\n",
        "tensor_gpu.cpu()"
      ],
      "metadata": {
        "colab": {
          "base_uri": "https://localhost:8080/"
        },
        "id": "HWCyQF0MsYPv",
        "outputId": "2daf9b97-dc1d-4fd0-b3eb-37262222bacf"
      },
      "execution_count": 27,
      "outputs": [
        {
          "output_type": "execute_result",
          "data": {
            "text/plain": [
              "tensor([[[2, 1, 9],\n",
              "         [2, 4, 6]],\n",
              "\n",
              "        [[5, 9, 2],\n",
              "         [4, 9, 0]]])"
            ]
          },
          "metadata": {},
          "execution_count": 27
        }
      ]
    },
    {
      "cell_type": "code",
      "source": [],
      "metadata": {
        "id": "32EIiyJrsu-P"
      },
      "execution_count": 27,
      "outputs": []
    }
  ]
}